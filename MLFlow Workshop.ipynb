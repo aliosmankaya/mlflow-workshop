{
 "cells": [
  {
   "cell_type": "markdown",
   "id": "a08e48f5-d376-4cfa-853c-20488251e0a9",
   "metadata": {},
   "source": [
    "# MLFlow Workshop"
   ]
  },
  {
   "cell_type": "markdown",
   "id": "d252ba87-80a7-4d78-8d5a-a3704db98da7",
   "metadata": {},
   "source": [
    "## 0. Data Preparation"
   ]
  },
  {
   "cell_type": "code",
   "execution_count": 1,
   "id": "f99b97a0-6c94-4248-95cf-a46f8ac21bf8",
   "metadata": {},
   "outputs": [],
   "source": [
    "import warnings\n",
    "warnings.filterwarnings(\"ignore\")"
   ]
  },
  {
   "cell_type": "code",
   "execution_count": 2,
   "id": "5eae146a-1af3-48f9-8dfb-f751a9c695d7",
   "metadata": {},
   "outputs": [],
   "source": [
    "from sklearn.datasets import make_classification\n",
    "from sklearn.model_selection import train_test_split"
   ]
  },
  {
   "cell_type": "code",
   "execution_count": 3,
   "id": "c52e8e9b-4272-459d-93e0-adb759f8f715",
   "metadata": {},
   "outputs": [],
   "source": [
    "X, y = make_classification(n_samples=1000,\n",
    "                           n_features=5,\n",
    "                           n_informative=3,\n",
    "                           n_classes=2,\n",
    "                           random_state=42)"
   ]
  },
  {
   "cell_type": "code",
   "execution_count": 4,
   "id": "8bfc990a-c0c7-4697-ade8-a84cb7b3e573",
   "metadata": {},
   "outputs": [
    {
     "data": {
      "text/plain": [
       "array([[-0.06529995, -0.7172141 ,  0.39395171, -0.93447324,  1.68151389],\n",
       "       [ 0.56701461, -0.04460648,  1.61285062, -1.35017375,  2.48887766],\n",
       "       [-0.24721549, -0.65056935, -0.74350032, -1.21418979,  0.84110979],\n",
       "       [ 1.14587027,  0.9742245 ,  1.5625056 , -2.27701042,  2.27652083],\n",
       "       [ 0.59960461, -0.4275453 ,  2.37447233, -1.50350966,  3.60495891]])"
      ]
     },
     "execution_count": 4,
     "metadata": {},
     "output_type": "execute_result"
    }
   ],
   "source": [
    "X[:5]"
   ]
  },
  {
   "cell_type": "code",
   "execution_count": 5,
   "id": "c0e6e60b-b718-4e61-9254-3fdd3fa8b69e",
   "metadata": {},
   "outputs": [
    {
     "data": {
      "text/plain": [
       "array([0, 0, 0, 1, 0])"
      ]
     },
     "execution_count": 5,
     "metadata": {},
     "output_type": "execute_result"
    }
   ],
   "source": [
    "y[:5]"
   ]
  },
  {
   "cell_type": "code",
   "execution_count": 6,
   "id": "0e2de849-8a7b-4694-a9bc-c868efdedc5e",
   "metadata": {},
   "outputs": [],
   "source": [
    "X_train, X_test, y_train, y_test = train_test_split(X,\n",
    "                                                    y,\n",
    "                                                    test_size=0.2,\n",
    "                                                    shuffle=True,\n",
    "                                                    random_state=42)"
   ]
  },
  {
   "cell_type": "markdown",
   "id": "f907ed89-6fe9-4691-a06c-44240d2a2902",
   "metadata": {},
   "source": [
    "## 1. MLFlow Tracking"
   ]
  },
  {
   "cell_type": "code",
   "execution_count": 7,
   "id": "d55cdf8e-287d-4a93-b401-6400fa4395bd",
   "metadata": {},
   "outputs": [],
   "source": [
    "from sklearn.linear_model import LogisticRegression\n",
    "from sklearn.metrics import classification_report, f1_score"
   ]
  },
  {
   "cell_type": "code",
   "execution_count": 8,
   "id": "0b692027-2804-4b39-aa87-bd3f1cb71c90",
   "metadata": {},
   "outputs": [],
   "source": [
    "model = LogisticRegression().fit(X_train, y_train)"
   ]
  },
  {
   "cell_type": "code",
   "execution_count": 9,
   "id": "68ad970e-4db4-41d6-86c5-4867babd60a1",
   "metadata": {},
   "outputs": [],
   "source": [
    "y_pred = model.predict(X_test)"
   ]
  },
  {
   "cell_type": "code",
   "execution_count": 10,
   "id": "b90a5025-0296-4ddd-962f-0cee85b160c2",
   "metadata": {},
   "outputs": [
    {
     "name": "stdout",
     "output_type": "stream",
     "text": [
      "              precision    recall  f1-score   support\n",
      "\n",
      "           0       0.91      0.94      0.92        94\n",
      "           1       0.94      0.92      0.93       106\n",
      "\n",
      "    accuracy                           0.93       200\n",
      "   macro avg       0.92      0.93      0.92       200\n",
      "weighted avg       0.93      0.93      0.93       200\n",
      "\n"
     ]
    }
   ],
   "source": [
    "print(classification_report(y_test, y_pred))"
   ]
  },
  {
   "cell_type": "markdown",
   "id": "707fa5b4-9a25-413c-8407-2dd92b35184c",
   "metadata": {},
   "source": [
    "### 1.1 Concepts\n",
    "* <b>Code Version:</b> Git commit hash used.\n",
    "* <b>Start & End Time:</b> Start & end time of the run.\n",
    "* <b>Source:</b> Name of the file to launch the run, or the project name.\n",
    "* <b>Parameters:</b> Key-value input parameters of your choice.\n",
    "* <b>Metrics:</b> Key-value metrics, where the value is numeric.\n",
    "* <b>Artifacts:</b> Output files in any format."
   ]
  },
  {
   "cell_type": "code",
   "execution_count": 11,
   "id": "aef405dc-92d4-41f1-882d-4f7ec29da3e7",
   "metadata": {},
   "outputs": [],
   "source": [
    "import mlflow"
   ]
  },
  {
   "cell_type": "code",
   "execution_count": 12,
   "id": "1f85ac9b-e2ee-4757-9db3-caea3bc2853a",
   "metadata": {},
   "outputs": [
    {
     "name": "stderr",
     "output_type": "stream",
     "text": [
      "2023/05/25 01:29:04 INFO mlflow.tracking.fluent: Experiment with name 'classification-project' does not exist. Creating a new experiment.\n"
     ]
    },
    {
     "data": {
      "text/plain": [
       "<Experiment: artifact_location='/home/alios/Desktop/b2metric/aktifbank-workshop/mlruns/1', creation_time=1684967344602, experiment_id='1', last_update_time=1684967344602, lifecycle_stage='active', name='classification-project', tags={}>"
      ]
     },
     "execution_count": 12,
     "metadata": {},
     "output_type": "execute_result"
    }
   ],
   "source": [
    "mlflow.set_tracking_uri(\"sqlite:///mlruns.db\")\n",
    "mlflow.set_experiment(\"classification-project\")"
   ]
  },
  {
   "cell_type": "markdown",
   "id": "b23bb439-3f7b-416a-9045-a23556e80ea0",
   "metadata": {},
   "source": [
    "### 1.2 Experiments"
   ]
  },
  {
   "cell_type": "code",
   "execution_count": 13,
   "id": "b9d1f37a-6599-4776-9d9f-f84fac65e6cb",
   "metadata": {},
   "outputs": [],
   "source": [
    "# Experiment: 1\n",
    "\n",
    "mlflow.sklearn.autolog()\n",
    "\n",
    "with mlflow.start_run():\n",
    "\n",
    "    # Developer Tag\n",
    "    mlflow.set_tag(\"data-scientist\", \"aliosman\")\n",
    "\n",
    "    model = LogisticRegression().fit(X_train, y_train)\n",
    "    y_pred = model.predict(X_test)\n",
    "    score = f1_score(y_test, y_pred)\n",
    "\n",
    "    # Metric Tag\n",
    "    mlflow.log_metric(\"F1\", score)"
   ]
  },
  {
   "cell_type": "code",
   "execution_count": 14,
   "id": "4f7a8dc6-6f55-4107-95db-ed61b5361354",
   "metadata": {},
   "outputs": [],
   "source": [
    "# Experiment: 2\n",
    "\n",
    "mlflow.sklearn.autolog()\n",
    "\n",
    "with mlflow.start_run():\n",
    "\n",
    "    # Developer tag\n",
    "    mlflow.set_tag(\"data-scientist\", \"aliosman\")\n",
    "\n",
    "    solver = \"liblinear\"\n",
    "    penalty = \"l1\"\n",
    "    C = 20\n",
    "\n",
    "    mlflow.log_param(\"solver\", solver)\n",
    "    mlflow.log_param(\"penalty\", penalty)\n",
    "    mlflow.log_param(\"C\", C)\n",
    "\n",
    "    model = LogisticRegression(solver=solver, penalty=penalty, C=C).fit(X_train, y_train)\n",
    "    y_pred = model.predict(X_test)\n",
    "    score = f1_score(y_test, y_pred)\n",
    "\n",
    "    # Metric Tag\n",
    "    mlflow.log_metric(\"F1\", score)"
   ]
  },
  {
   "cell_type": "code",
   "execution_count": 15,
   "id": "359a3f8c-90a9-467b-95ee-06d2d6ba0e16",
   "metadata": {},
   "outputs": [],
   "source": [
    "# Experiment: 3\n",
    "\n",
    "from xgboost import XGBClassifier\n",
    "\n",
    "mlflow.xgboost.autolog()\n",
    "\n",
    "with mlflow.start_run():\n",
    "\n",
    "    # Developer tag\n",
    "    mlflow.set_tag(\"data-scientist\", \"aliosman\")\n",
    "\n",
    "    model = XGBClassifier().fit(X_train, y_train)\n",
    "    y_pred = model.predict(X_test)\n",
    "    score = f1_score(y_test, y_pred)\n",
    "\n",
    "    # Metric Tag\n",
    "    mlflow.log_metric(\"F1\", score)"
   ]
  },
  {
   "cell_type": "markdown",
   "id": "1a76d578-291b-416c-acdd-6e81f86f207b",
   "metadata": {},
   "source": [
    "## 2. MLFlow Model Registry"
   ]
  },
  {
   "cell_type": "markdown",
   "id": "cc7b3840-514a-4b20-86bd-4d164e7199af",
   "metadata": {},
   "source": [
    "### 2.1 Record"
   ]
  },
  {
   "cell_type": "markdown",
   "id": "a78677a0-79fb-4dd0-9565-d984aca587e7",
   "metadata": {},
   "source": [
    "<img src=\"https://mlflow.org/docs/latest/_images/scenario_2.png\" width=\"400\" height=\"500\">"
   ]
  },
  {
   "cell_type": "markdown",
   "id": "6cec045e-1707-4e33-a186-6b82df4babf4",
   "metadata": {},
   "source": [
    "### 2.2 Registry"
   ]
  },
  {
   "cell_type": "code",
   "execution_count": 16,
   "id": "aebc1899-85a3-4979-96e3-088ba44efc09",
   "metadata": {},
   "outputs": [],
   "source": [
    "from mlflow.models.signature import infer_signature"
   ]
  },
  {
   "cell_type": "code",
   "execution_count": 17,
   "id": "547e7636-21c3-4ba4-a95d-04093e2b8805",
   "metadata": {},
   "outputs": [
    {
     "name": "stderr",
     "output_type": "stream",
     "text": [
      "Successfully registered model 'sklearn-logistic-base-model'.\n",
      "2023/05/25 01:29:28 INFO mlflow.tracking._model_registry.client: Waiting up to 300 seconds for model version to finish creation. Model name: sklearn-logistic-base-model, version 1\n",
      "Created version '1' of model 'sklearn-logistic-base-model'.\n"
     ]
    }
   ],
   "source": [
    "# Model: 1\n",
    "\n",
    "mlflow.sklearn.autolog()\n",
    "\n",
    "with mlflow.start_run():\n",
    "\n",
    "    # Developer Tag\n",
    "    mlflow.set_tag(\"data-scientist\", \"aliosman\")\n",
    "\n",
    "    model = LogisticRegression().fit(X_train, y_train)\n",
    "    y_pred = model.predict(X_test)\n",
    "    score = f1_score(y_test, y_pred)\n",
    "\n",
    "    # Metric Log\n",
    "    mlflow.log_metric(\"F1\", score)\n",
    "\n",
    "    signature = infer_signature(X_test, y_pred)\n",
    "\n",
    "    # Model Log\n",
    "    mlflow.sklearn.log_model(\n",
    "        sk_model=model,\n",
    "        artifact_path=\"sklearn-model\",\n",
    "        signature=signature,\n",
    "        registered_model_name=\"sklearn-logistic-base-model\",\n",
    "    )"
   ]
  },
  {
   "cell_type": "code",
   "execution_count": 18,
   "id": "d26e7353-b09b-40ee-be7c-ded865e6e564",
   "metadata": {},
   "outputs": [
    {
     "name": "stderr",
     "output_type": "stream",
     "text": [
      "Successfully registered model 'xgboost-base-model'.\n",
      "2023/05/25 01:29:33 INFO mlflow.tracking._model_registry.client: Waiting up to 300 seconds for model version to finish creation. Model name: xgboost-base-model, version 1\n",
      "Created version '1' of model 'xgboost-base-model'.\n"
     ]
    }
   ],
   "source": [
    "# Model: 2\n",
    "\n",
    "mlflow.xgboost.autolog()\n",
    "\n",
    "with mlflow.start_run():\n",
    "\n",
    "    # Developer Tag\n",
    "    mlflow.set_tag(\"data-scientist\", \"aliosman\")\n",
    "\n",
    "    model = XGBClassifier().fit(X_train, y_train)\n",
    "    y_pred = model.predict(X_test)\n",
    "    score = f1_score(y_test, y_pred)\n",
    "\n",
    "    # Metric Log\n",
    "    mlflow.log_metric(\"F1\", score)\n",
    "\n",
    "    signature = infer_signature(X_test, y_pred)\n",
    "\n",
    "    # Model Log\n",
    "    mlflow.xgboost.log_model(\n",
    "        xgb_model=model,\n",
    "        artifact_path=\"xgboost-model\",\n",
    "        signature=signature,\n",
    "        registered_model_name=\"xgboost-base-model\",\n",
    "    )"
   ]
  },
  {
   "cell_type": "markdown",
   "id": "673fa7a0-fee4-4a3c-b548-541b4999e141",
   "metadata": {},
   "source": [
    "## 3. MLFlow Models"
   ]
  },
  {
   "cell_type": "markdown",
   "id": "1cb3bf16-2969-42d6-b328-d6ee3d0bdd81",
   "metadata": {},
   "source": [
    "### 3.1 Registered Models"
   ]
  },
  {
   "cell_type": "code",
   "execution_count": 19,
   "id": "f4907a90-03f7-4721-81b5-a541f046d8d3",
   "metadata": {},
   "outputs": [],
   "source": [
    "from mlflow.tracking import MlflowClient"
   ]
  },
  {
   "cell_type": "code",
   "execution_count": 20,
   "id": "76b9f346-b5a8-440f-b89c-5494dc3ddee6",
   "metadata": {},
   "outputs": [],
   "source": [
    "client = MlflowClient(tracking_uri=\"sqlite:///mlruns.db\")"
   ]
  },
  {
   "cell_type": "code",
   "execution_count": 21,
   "id": "88b2a3d5-0da4-4895-8cb0-b6b38be65ebb",
   "metadata": {},
   "outputs": [
    {
     "data": {
      "text/plain": [
       "<RegisteredModel: aliases={}, creation_timestamp=1684967373592, description=None, last_updated_timestamp=1684967373606, latest_versions=[<ModelVersion: aliases=[], creation_timestamp=1684967373606, current_stage='None', description=None, last_updated_timestamp=1684967373606, name='xgboost-base-model', run_id='876c74058428428abc925631a2b889fc', run_link=None, source='/home/alios/Desktop/b2metric/aktifbank-workshop/mlruns/1/876c74058428428abc925631a2b889fc/artifacts/xgboost-model', status='READY', status_message=None, tags={}, user_id=None, version=1>], name='xgboost-base-model', tags={}>"
      ]
     },
     "execution_count": 21,
     "metadata": {},
     "output_type": "execute_result"
    }
   ],
   "source": [
    "registered_model = client.get_registered_model(\"xgboost-base-model\")\n",
    "registered_model"
   ]
  },
  {
   "cell_type": "markdown",
   "id": "cdf2cc56-fe7a-40f5-bac1-f21ad4e614ec",
   "metadata": {},
   "source": [
    "### 3.2 Load Model"
   ]
  },
  {
   "cell_type": "code",
   "execution_count": 22,
   "id": "4b7316bf-a876-4ed5-a1ce-9372a172376b",
   "metadata": {},
   "outputs": [],
   "source": [
    "from mlflow.xgboost import load_model"
   ]
  },
  {
   "cell_type": "code",
   "execution_count": 23,
   "id": "8830410e-a7ad-4a42-94ba-6386c7a759f7",
   "metadata": {},
   "outputs": [],
   "source": [
    "src_path = registered_model.latest_versions[0].source"
   ]
  },
  {
   "cell_type": "code",
   "execution_count": 24,
   "id": "c5b506ba-1f98-4fbe-b6be-f076bc94a456",
   "metadata": {},
   "outputs": [],
   "source": [
    "model = load_model(src_path)"
   ]
  },
  {
   "cell_type": "code",
   "execution_count": 25,
   "id": "9f7dbbaf-e1e7-4143-8a25-84403481d78c",
   "metadata": {},
   "outputs": [],
   "source": [
    "y_pred = model.predict(X_test)"
   ]
  },
  {
   "cell_type": "code",
   "execution_count": 26,
   "id": "871f781d-1b34-4242-9c44-0207419652de",
   "metadata": {},
   "outputs": [
    {
     "data": {
      "text/plain": [
       "0.9537037037037037"
      ]
     },
     "execution_count": 26,
     "metadata": {},
     "output_type": "execute_result"
    }
   ],
   "source": [
    "f1_score(y_test, y_pred)"
   ]
  },
  {
   "cell_type": "code",
   "execution_count": null,
   "id": "90d1a778-8fbb-4baf-81f0-07743ea87010",
   "metadata": {},
   "outputs": [],
   "source": []
  },
  {
   "cell_type": "code",
   "execution_count": 27,
   "id": "f3da4970-e463-40da-81d1-b9d0d7fba3f9",
   "metadata": {},
   "outputs": [],
   "source": [
    "from mlflow.sklearn import load_model"
   ]
  },
  {
   "cell_type": "code",
   "execution_count": 28,
   "id": "315664c6-928f-43f0-82c1-e2a4a678aef4",
   "metadata": {},
   "outputs": [
    {
     "data": {
      "text/plain": [
       "<RegisteredModel: aliases={}, creation_timestamp=1684967368389, description=None, last_updated_timestamp=1684967368405, latest_versions=[<ModelVersion: aliases=[], creation_timestamp=1684967368405, current_stage='None', description=None, last_updated_timestamp=1684967368405, name='sklearn-logistic-base-model', run_id='793a666f0ccd4bc0a52bfb63ed802b35', run_link=None, source='/home/alios/Desktop/b2metric/aktifbank-workshop/mlruns/1/793a666f0ccd4bc0a52bfb63ed802b35/artifacts/sklearn-model', status='READY', status_message=None, tags={}, user_id=None, version=1>], name='sklearn-logistic-base-model', tags={}>"
      ]
     },
     "execution_count": 28,
     "metadata": {},
     "output_type": "execute_result"
    }
   ],
   "source": [
    "registered_model = client.get_registered_model(\"sklearn-logistic-base-model\")\n",
    "registered_model"
   ]
  },
  {
   "cell_type": "code",
   "execution_count": 29,
   "id": "902d4a40-534e-4d88-af52-7c8565baef53",
   "metadata": {},
   "outputs": [],
   "source": [
    "src_path = registered_model.latest_versions[0].source"
   ]
  },
  {
   "cell_type": "code",
   "execution_count": 30,
   "id": "7fdcc4a9-6bb7-4f0f-bc0b-dbce99c0749b",
   "metadata": {},
   "outputs": [],
   "source": [
    "model = load_model(src_path)"
   ]
  },
  {
   "cell_type": "code",
   "execution_count": 31,
   "id": "1583e0cf-1f35-4d63-8442-a5c4f31e6a3f",
   "metadata": {},
   "outputs": [],
   "source": [
    "y_pred = model.predict(X_test)"
   ]
  },
  {
   "cell_type": "code",
   "execution_count": 32,
   "id": "53f5880b-f3f0-4e7b-beb6-4c754f02965a",
   "metadata": {},
   "outputs": [
    {
     "data": {
      "text/plain": [
       "0.9282296650717704"
      ]
     },
     "execution_count": 32,
     "metadata": {},
     "output_type": "execute_result"
    }
   ],
   "source": [
    "f1_score(y_test, y_pred)"
   ]
  },
  {
   "cell_type": "markdown",
   "id": "edeb7b74-69a9-43f2-b241-d34f5ed00fbe",
   "metadata": {},
   "source": [
    "## 4. MLFlow Projects"
   ]
  },
  {
   "cell_type": "code",
   "execution_count": 33,
   "id": "01b86692-d93e-4a6a-af08-6b27684272ae",
   "metadata": {},
   "outputs": [
    {
     "name": "stdout",
     "output_type": "stream",
     "text": [
      "\u001b[01;34m.\u001b[00m\n",
      "├── \u001b[01;34martifacts\u001b[00m\n",
      "├── MLFlow Workshop.ipynb\n",
      "├── \u001b[01;34mmlruns\u001b[00m\n",
      "│   └── \u001b[01;34m1\u001b[00m\n",
      "│       ├── \u001b[01;34m793a666f0ccd4bc0a52bfb63ed802b35\u001b[00m\n",
      "│       │   └── \u001b[01;34martifacts\u001b[00m\n",
      "│       │       ├── estimator.html\n",
      "│       │       ├── \u001b[01;34mmodel\u001b[00m\n",
      "│       │       │   ├── conda.yaml\n",
      "│       │       │   ├── MLmodel\n",
      "│       │       │   ├── model.pkl\n",
      "│       │       │   ├── python_env.yaml\n",
      "│       │       │   └── requirements.txt\n",
      "│       │       ├── \u001b[01;34msklearn-model\u001b[00m\n",
      "│       │       │   ├── conda.yaml\n",
      "│       │       │   ├── MLmodel\n",
      "│       │       │   ├── model.pkl\n",
      "│       │       │   ├── python_env.yaml\n",
      "│       │       │   └── requirements.txt\n",
      "│       │       ├── \u001b[01;35mtraining_confusion_matrix.png\u001b[00m\n",
      "│       │       ├── \u001b[01;35mtraining_precision_recall_curve.png\u001b[00m\n",
      "│       │       └── \u001b[01;35mtraining_roc_curve.png\u001b[00m\n",
      "│       ├── \u001b[01;34m876c74058428428abc925631a2b889fc\u001b[00m\n",
      "│       │   └── \u001b[01;34martifacts\u001b[00m\n",
      "│       │       ├── feature_importance_weight.json\n",
      "│       │       ├── \u001b[01;35mfeature_importance_weight.png\u001b[00m\n",
      "│       │       ├── \u001b[01;34mmodel\u001b[00m\n",
      "│       │       │   ├── conda.yaml\n",
      "│       │       │   ├── MLmodel\n",
      "│       │       │   ├── model.xgb\n",
      "│       │       │   ├── python_env.yaml\n",
      "│       │       │   └── requirements.txt\n",
      "│       │       └── \u001b[01;34mxgboost-model\u001b[00m\n",
      "│       │           ├── conda.yaml\n",
      "│       │           ├── MLmodel\n",
      "│       │           ├── model.xgb\n",
      "│       │           ├── python_env.yaml\n",
      "│       │           └── requirements.txt\n",
      "│       ├── \u001b[01;34m94af9601598e4ce39fd0886b315dc305\u001b[00m\n",
      "│       │   └── \u001b[01;34martifacts\u001b[00m\n",
      "│       │       ├── feature_importance_weight.json\n",
      "│       │       ├── \u001b[01;35mfeature_importance_weight.png\u001b[00m\n",
      "│       │       └── \u001b[01;34mmodel\u001b[00m\n",
      "│       │           ├── conda.yaml\n",
      "│       │           ├── MLmodel\n",
      "│       │           ├── model.xgb\n",
      "│       │           ├── python_env.yaml\n",
      "│       │           └── requirements.txt\n",
      "│       ├── \u001b[01;34mce3549d54965412abc4eca91debfbb31\u001b[00m\n",
      "│       │   └── \u001b[01;34martifacts\u001b[00m\n",
      "│       │       ├── estimator.html\n",
      "│       │       ├── \u001b[01;34mmodel\u001b[00m\n",
      "│       │       │   ├── conda.yaml\n",
      "│       │       │   ├── MLmodel\n",
      "│       │       │   ├── model.pkl\n",
      "│       │       │   ├── python_env.yaml\n",
      "│       │       │   └── requirements.txt\n",
      "│       │       ├── \u001b[01;35mtraining_confusion_matrix.png\u001b[00m\n",
      "│       │       ├── \u001b[01;35mtraining_precision_recall_curve.png\u001b[00m\n",
      "│       │       └── \u001b[01;35mtraining_roc_curve.png\u001b[00m\n",
      "│       └── \u001b[01;34md1bf00d6c3ad4bf69f01e7c4ff0fabff\u001b[00m\n",
      "│           └── \u001b[01;34martifacts\u001b[00m\n",
      "│               ├── estimator.html\n",
      "│               ├── \u001b[01;34mmodel\u001b[00m\n",
      "│               │   ├── conda.yaml\n",
      "│               │   ├── MLmodel\n",
      "│               │   ├── model.pkl\n",
      "│               │   ├── python_env.yaml\n",
      "│               │   └── requirements.txt\n",
      "│               ├── \u001b[01;35mtraining_confusion_matrix.png\u001b[00m\n",
      "│               ├── \u001b[01;35mtraining_precision_recall_curve.png\u001b[00m\n",
      "│               └── \u001b[01;35mtraining_roc_curve.png\u001b[00m\n",
      "└── mlruns.db\n",
      "\n",
      "20 directories, 53 files\n"
     ]
    }
   ],
   "source": [
    "!tree"
   ]
  },
  {
   "cell_type": "code",
   "execution_count": 34,
   "id": "1125b918-1ebe-4747-b780-2d0f801291f0",
   "metadata": {},
   "outputs": [
    {
     "data": {
      "text/plain": [
       "'/home/alios/Desktop/b2metric/aktifbank-workshop/mlruns/1/793a666f0ccd4bc0a52bfb63ed802b35/artifacts/sklearn-model'"
      ]
     },
     "execution_count": 34,
     "metadata": {},
     "output_type": "execute_result"
    }
   ],
   "source": [
    "src_path"
   ]
  },
  {
   "cell_type": "code",
   "execution_count": 35,
   "id": "e525d673-9282-4a65-a870-0b5e83766fe2",
   "metadata": {},
   "outputs": [
    {
     "name": "stdout",
     "output_type": "stream",
     "text": [
      "Collecting package metadata (repodata.json): done\n",
      "Solving environment: done\n",
      "\n",
      "\n",
      "==> WARNING: A newer version of conda exists. <==\n",
      "  current version: 22.9.0\n",
      "  latest version: 23.3.1\n",
      "\n",
      "Please update conda by running\n",
      "\n",
      "    $ conda update -n base -c defaults conda\n",
      "\n",
      "\n",
      "Preparing transaction: done\n",
      "Verifying transaction: done\n",
      "Executing transaction: done\n",
      "Installing pip dependencies: - Ran pip subprocess with arguments:\n",
      "['/home/alios/anaconda3/envs/mlflow-env/bin/python', '-m', 'pip', 'install', '-U', '-r', '/home/alios/Desktop/b2metric/aktifbank-workshop/mlruns/1/793a666f0ccd4bc0a52bfb63ed802b35/artifacts/sklearn-model/condaenv.lu_wairi.requirements.txt']\n",
      "Pip subprocess output:\n",
      "Collecting mlflow==2.3 (from -r /home/alios/Desktop/b2metric/aktifbank-workshop/mlruns/1/793a666f0ccd4bc0a52bfb63ed802b35/artifacts/sklearn-model/condaenv.lu_wairi.requirements.txt (line 1))\n",
      "  Downloading mlflow-2.3.0-py3-none-any.whl (17.7 MB)\n",
      "\u001b[2K     ━━━━━━━━━━━━━━━━━━━━━━━━━━━━━━━━━━━━━━━━ 17.7/17.7 MB 8.6 MB/s eta 0:00:009\n",
      "\u001b[?25hCollecting cloudpickle==2.2.1 (from -r /home/alios/Desktop/b2metric/aktifbank-workshop/mlruns/1/793a666f0ccd4bc0a52bfb63ed802b35/artifacts/sklearn-model/condaenv.lu_wairi.requirements.txt (line 2))\n",
      "  Using cached cloudpickle-2.2.1-py3-none-any.whl (25 kB)\n",
      "Collecting numpy==1.24.3 (from -r /home/alios/Desktop/b2metric/aktifbank-workshop/mlruns/1/793a666f0ccd4bc0a52bfb63ed802b35/artifacts/sklearn-model/condaenv.lu_wairi.requirements.txt (line 3))\n",
      "  Using cached numpy-1.24.3-cp311-cp311-manylinux_2_17_x86_64.manylinux2014_x86_64.whl (17.3 MB)\n",
      "Collecting psutil==5.9.5 (from -r /home/alios/Desktop/b2metric/aktifbank-workshop/mlruns/1/793a666f0ccd4bc0a52bfb63ed802b35/artifacts/sklearn-model/condaenv.lu_wairi.requirements.txt (line 4))\n",
      "  Downloading psutil-5.9.5-cp36-abi3-manylinux_2_12_x86_64.manylinux2010_x86_64.manylinux_2_17_x86_64.manylinux2014_x86_64.whl (282 kB)\n",
      "\u001b[2K     ━━━━━━━━━━━━━━━━━━━━━━━━━━━━━━━━━━━━━━━ 282.1/282.1 kB 9.0 MB/s eta 0:00:00\n",
      "\u001b[?25hCollecting scikit-learn==1.2.2 (from -r /home/alios/Desktop/b2metric/aktifbank-workshop/mlruns/1/793a666f0ccd4bc0a52bfb63ed802b35/artifacts/sklearn-model/condaenv.lu_wairi.requirements.txt (line 5))\n",
      "  Using cached scikit_learn-1.2.2-cp311-cp311-manylinux_2_17_x86_64.manylinux2014_x86_64.whl (9.6 MB)\n",
      "Collecting scipy==1.10.1 (from -r /home/alios/Desktop/b2metric/aktifbank-workshop/mlruns/1/793a666f0ccd4bc0a52bfb63ed802b35/artifacts/sklearn-model/condaenv.lu_wairi.requirements.txt (line 6))\n",
      "  Using cached scipy-1.10.1-cp311-cp311-manylinux_2_17_x86_64.manylinux2014_x86_64.whl (34.1 MB)\n",
      "Collecting click<9,>=7.0 (from mlflow==2.3->-r /home/alios/Desktop/b2metric/aktifbank-workshop/mlruns/1/793a666f0ccd4bc0a52bfb63ed802b35/artifacts/sklearn-model/condaenv.lu_wairi.requirements.txt (line 1))\n",
      "  Using cached click-8.1.3-py3-none-any.whl (96 kB)\n",
      "Collecting databricks-cli<1,>=0.8.7 (from mlflow==2.3->-r /home/alios/Desktop/b2metric/aktifbank-workshop/mlruns/1/793a666f0ccd4bc0a52bfb63ed802b35/artifacts/sklearn-model/condaenv.lu_wairi.requirements.txt (line 1))\n",
      "  Using cached databricks_cli-0.17.7-py3-none-any.whl\n",
      "Collecting entrypoints<1 (from mlflow==2.3->-r /home/alios/Desktop/b2metric/aktifbank-workshop/mlruns/1/793a666f0ccd4bc0a52bfb63ed802b35/artifacts/sklearn-model/condaenv.lu_wairi.requirements.txt (line 1))\n",
      "  Using cached entrypoints-0.4-py3-none-any.whl (5.3 kB)\n",
      "Collecting gitpython<4,>=2.1.0 (from mlflow==2.3->-r /home/alios/Desktop/b2metric/aktifbank-workshop/mlruns/1/793a666f0ccd4bc0a52bfb63ed802b35/artifacts/sklearn-model/condaenv.lu_wairi.requirements.txt (line 1))\n",
      "  Using cached GitPython-3.1.31-py3-none-any.whl (184 kB)\n",
      "Collecting pyyaml<7,>=5.1 (from mlflow==2.3->-r /home/alios/Desktop/b2metric/aktifbank-workshop/mlruns/1/793a666f0ccd4bc0a52bfb63ed802b35/artifacts/sklearn-model/condaenv.lu_wairi.requirements.txt (line 1))\n",
      "  Downloading PyYAML-6.0-cp311-cp311-manylinux_2_17_x86_64.manylinux2014_x86_64.whl (757 kB)\n",
      "\u001b[2K     ━━━━━━━━━━━━━━━━━━━━━━━━━━━━━━━━━━━━━━━ 757.9/757.9 kB 8.3 MB/s eta 0:00:00\n",
      "\u001b[?25hCollecting protobuf<5,>=3.12.0 (from mlflow==2.3->-r /home/alios/Desktop/b2metric/aktifbank-workshop/mlruns/1/793a666f0ccd4bc0a52bfb63ed802b35/artifacts/sklearn-model/condaenv.lu_wairi.requirements.txt (line 1))\n",
      "  Using cached protobuf-4.23.1-cp37-abi3-manylinux2014_x86_64.whl (304 kB)\n",
      "Collecting pytz<2024 (from mlflow==2.3->-r /home/alios/Desktop/b2metric/aktifbank-workshop/mlruns/1/793a666f0ccd4bc0a52bfb63ed802b35/artifacts/sklearn-model/condaenv.lu_wairi.requirements.txt (line 1))\n",
      "  Using cached pytz-2023.3-py2.py3-none-any.whl (502 kB)\n",
      "Collecting requests<3,>=2.17.3 (from mlflow==2.3->-r /home/alios/Desktop/b2metric/aktifbank-workshop/mlruns/1/793a666f0ccd4bc0a52bfb63ed802b35/artifacts/sklearn-model/condaenv.lu_wairi.requirements.txt (line 1))\n",
      "  Downloading requests-2.31.0-py3-none-any.whl (62 kB)\n",
      "\u001b[2K     ━━━━━━━━━━━━━━━━━━━━━━━━━━━━━━━━━━━━━━━━ 62.6/62.6 kB 5.6 MB/s eta 0:00:00\n",
      "\u001b[?25hCollecting packaging<24 (from mlflow==2.3->-r /home/alios/Desktop/b2metric/aktifbank-workshop/mlruns/1/793a666f0ccd4bc0a52bfb63ed802b35/artifacts/sklearn-model/condaenv.lu_wairi.requirements.txt (line 1))\n",
      "  Using cached packaging-23.1-py3-none-any.whl (48 kB)\n",
      "Collecting importlib-metadata!=4.7.0,<7,>=3.7.0 (from mlflow==2.3->-r /home/alios/Desktop/b2metric/aktifbank-workshop/mlruns/1/793a666f0ccd4bc0a52bfb63ed802b35/artifacts/sklearn-model/condaenv.lu_wairi.requirements.txt (line 1))\n",
      "  Downloading importlib_metadata-6.6.0-py3-none-any.whl (22 kB)\n",
      "Collecting sqlparse<1,>=0.4.0 (from mlflow==2.3->-r /home/alios/Desktop/b2metric/aktifbank-workshop/mlruns/1/793a666f0ccd4bc0a52bfb63ed802b35/artifacts/sklearn-model/condaenv.lu_wairi.requirements.txt (line 1))\n",
      "  Using cached sqlparse-0.4.4-py3-none-any.whl (41 kB)\n",
      "Collecting alembic!=1.10.0,<2 (from mlflow==2.3->-r /home/alios/Desktop/b2metric/aktifbank-workshop/mlruns/1/793a666f0ccd4bc0a52bfb63ed802b35/artifacts/sklearn-model/condaenv.lu_wairi.requirements.txt (line 1))\n",
      "  Using cached alembic-1.11.1-py3-none-any.whl (224 kB)\n",
      "Collecting docker<7,>=4.0.0 (from mlflow==2.3->-r /home/alios/Desktop/b2metric/aktifbank-workshop/mlruns/1/793a666f0ccd4bc0a52bfb63ed802b35/artifacts/sklearn-model/condaenv.lu_wairi.requirements.txt (line 1))\n",
      "  Using cached docker-6.1.2-py3-none-any.whl (148 kB)\n",
      "Collecting Flask<3 (from mlflow==2.3->-r /home/alios/Desktop/b2metric/aktifbank-workshop/mlruns/1/793a666f0ccd4bc0a52bfb63ed802b35/artifacts/sklearn-model/condaenv.lu_wairi.requirements.txt (line 1))\n",
      "  Using cached Flask-2.3.2-py3-none-any.whl (96 kB)\n",
      "Collecting pandas<3 (from mlflow==2.3->-r /home/alios/Desktop/b2metric/aktifbank-workshop/mlruns/1/793a666f0ccd4bc0a52bfb63ed802b35/artifacts/sklearn-model/condaenv.lu_wairi.requirements.txt (line 1))\n",
      "  Using cached pandas-2.0.1-cp311-cp311-manylinux_2_17_x86_64.manylinux2014_x86_64.whl (12.2 MB)\n",
      "Collecting querystring-parser<2 (from mlflow==2.3->-r /home/alios/Desktop/b2metric/aktifbank-workshop/mlruns/1/793a666f0ccd4bc0a52bfb63ed802b35/artifacts/sklearn-model/condaenv.lu_wairi.requirements.txt (line 1))\n",
      "  Using cached querystring_parser-1.2.4-py2.py3-none-any.whl (7.9 kB)\n",
      "Collecting sqlalchemy<3,>=1.4.0 (from mlflow==2.3->-r /home/alios/Desktop/b2metric/aktifbank-workshop/mlruns/1/793a666f0ccd4bc0a52bfb63ed802b35/artifacts/sklearn-model/condaenv.lu_wairi.requirements.txt (line 1))\n",
      "  Using cached SQLAlchemy-2.0.15-cp311-cp311-manylinux_2_17_x86_64.manylinux2014_x86_64.whl (2.8 MB)\n",
      "Collecting pyarrow<12,>=4.0.0 (from mlflow==2.3->-r /home/alios/Desktop/b2metric/aktifbank-workshop/mlruns/1/793a666f0ccd4bc0a52bfb63ed802b35/artifacts/sklearn-model/condaenv.lu_wairi.requirements.txt (line 1))\n",
      "  Using cached pyarrow-11.0.0-cp311-cp311-manylinux_2_17_x86_64.manylinux2014_x86_64.whl (34.9 MB)\n",
      "Collecting markdown<4,>=3.3 (from mlflow==2.3->-r /home/alios/Desktop/b2metric/aktifbank-workshop/mlruns/1/793a666f0ccd4bc0a52bfb63ed802b35/artifacts/sklearn-model/condaenv.lu_wairi.requirements.txt (line 1))\n",
      "  Using cached Markdown-3.4.3-py3-none-any.whl (93 kB)\n",
      "Collecting matplotlib<4 (from mlflow==2.3->-r /home/alios/Desktop/b2metric/aktifbank-workshop/mlruns/1/793a666f0ccd4bc0a52bfb63ed802b35/artifacts/sklearn-model/condaenv.lu_wairi.requirements.txt (line 1))\n",
      "  Using cached matplotlib-3.7.1-cp311-cp311-manylinux_2_17_x86_64.manylinux2014_x86_64.whl (11.6 MB)\n",
      "Collecting gunicorn<21 (from mlflow==2.3->-r /home/alios/Desktop/b2metric/aktifbank-workshop/mlruns/1/793a666f0ccd4bc0a52bfb63ed802b35/artifacts/sklearn-model/condaenv.lu_wairi.requirements.txt (line 1))\n",
      "  Using cached gunicorn-20.1.0-py3-none-any.whl (79 kB)\n",
      "Collecting Jinja2<4,>=2.11 (from mlflow==2.3->-r /home/alios/Desktop/b2metric/aktifbank-workshop/mlruns/1/793a666f0ccd4bc0a52bfb63ed802b35/artifacts/sklearn-model/condaenv.lu_wairi.requirements.txt (line 1))\n",
      "  Using cached Jinja2-3.1.2-py3-none-any.whl (133 kB)\n",
      "Collecting joblib>=1.1.1 (from scikit-learn==1.2.2->-r /home/alios/Desktop/b2metric/aktifbank-workshop/mlruns/1/793a666f0ccd4bc0a52bfb63ed802b35/artifacts/sklearn-model/condaenv.lu_wairi.requirements.txt (line 5))\n",
      "  Using cached joblib-1.2.0-py3-none-any.whl (297 kB)\n",
      "Collecting threadpoolctl>=2.0.0 (from scikit-learn==1.2.2->-r /home/alios/Desktop/b2metric/aktifbank-workshop/mlruns/1/793a666f0ccd4bc0a52bfb63ed802b35/artifacts/sklearn-model/condaenv.lu_wairi.requirements.txt (line 5))\n",
      "  Using cached threadpoolctl-3.1.0-py3-none-any.whl (14 kB)\n",
      "Collecting Mako (from alembic!=1.10.0,<2->mlflow==2.3->-r /home/alios/Desktop/b2metric/aktifbank-workshop/mlruns/1/793a666f0ccd4bc0a52bfb63ed802b35/artifacts/sklearn-model/condaenv.lu_wairi.requirements.txt (line 1))\n",
      "  Using cached Mako-1.2.4-py3-none-any.whl (78 kB)\n",
      "Collecting typing-extensions>=4 (from alembic!=1.10.0,<2->mlflow==2.3->-r /home/alios/Desktop/b2metric/aktifbank-workshop/mlruns/1/793a666f0ccd4bc0a52bfb63ed802b35/artifacts/sklearn-model/condaenv.lu_wairi.requirements.txt (line 1))\n",
      "  Downloading typing_extensions-4.6.1-py3-none-any.whl (31 kB)\n",
      "Collecting pyjwt>=1.7.0 (from databricks-cli<1,>=0.8.7->mlflow==2.3->-r /home/alios/Desktop/b2metric/aktifbank-workshop/mlruns/1/793a666f0ccd4bc0a52bfb63ed802b35/artifacts/sklearn-model/condaenv.lu_wairi.requirements.txt (line 1))\n",
      "  Using cached PyJWT-2.7.0-py3-none-any.whl (22 kB)\n",
      "Collecting oauthlib>=3.1.0 (from databricks-cli<1,>=0.8.7->mlflow==2.3->-r /home/alios/Desktop/b2metric/aktifbank-workshop/mlruns/1/793a666f0ccd4bc0a52bfb63ed802b35/artifacts/sklearn-model/condaenv.lu_wairi.requirements.txt (line 1))\n",
      "  Using cached oauthlib-3.2.2-py3-none-any.whl (151 kB)\n",
      "Collecting tabulate>=0.7.7 (from databricks-cli<1,>=0.8.7->mlflow==2.3->-r /home/alios/Desktop/b2metric/aktifbank-workshop/mlruns/1/793a666f0ccd4bc0a52bfb63ed802b35/artifacts/sklearn-model/condaenv.lu_wairi.requirements.txt (line 1))\n",
      "  Using cached tabulate-0.9.0-py3-none-any.whl (35 kB)\n",
      "Collecting six>=1.10.0 (from databricks-cli<1,>=0.8.7->mlflow==2.3->-r /home/alios/Desktop/b2metric/aktifbank-workshop/mlruns/1/793a666f0ccd4bc0a52bfb63ed802b35/artifacts/sklearn-model/condaenv.lu_wairi.requirements.txt (line 1))\n",
      "  Using cached six-1.16.0-py2.py3-none-any.whl (11 kB)\n",
      "Collecting urllib3<2.0.0,>=1.26.7 (from databricks-cli<1,>=0.8.7->mlflow==2.3->-r /home/alios/Desktop/b2metric/aktifbank-workshop/mlruns/1/793a666f0ccd4bc0a52bfb63ed802b35/artifacts/sklearn-model/condaenv.lu_wairi.requirements.txt (line 1))\n",
      "  Using cached urllib3-1.26.16-py2.py3-none-any.whl (143 kB)\n",
      "Collecting websocket-client>=0.32.0 (from docker<7,>=4.0.0->mlflow==2.3->-r /home/alios/Desktop/b2metric/aktifbank-workshop/mlruns/1/793a666f0ccd4bc0a52bfb63ed802b35/artifacts/sklearn-model/condaenv.lu_wairi.requirements.txt (line 1))\n",
      "  Downloading websocket_client-1.5.2-py3-none-any.whl (56 kB)\n",
      "\u001b[2K     ━━━━━━━━━━━━━━━━━━━━━━━━━━━━━━━━━━━━━━━━ 56.6/56.6 kB 5.3 MB/s eta 0:00:00\n",
      "\u001b[?25hCollecting Werkzeug>=2.3.3 (from Flask<3->mlflow==2.3->-r /home/alios/Desktop/b2metric/aktifbank-workshop/mlruns/1/793a666f0ccd4bc0a52bfb63ed802b35/artifacts/sklearn-model/condaenv.lu_wairi.requirements.txt (line 1))\n",
      "  Using cached Werkzeug-2.3.4-py3-none-any.whl (242 kB)\n",
      "Collecting itsdangerous>=2.1.2 (from Flask<3->mlflow==2.3->-r /home/alios/Desktop/b2metric/aktifbank-workshop/mlruns/1/793a666f0ccd4bc0a52bfb63ed802b35/artifacts/sklearn-model/condaenv.lu_wairi.requirements.txt (line 1))\n",
      "  Using cached itsdangerous-2.1.2-py3-none-any.whl (15 kB)\n",
      "Collecting blinker>=1.6.2 (from Flask<3->mlflow==2.3->-r /home/alios/Desktop/b2metric/aktifbank-workshop/mlruns/1/793a666f0ccd4bc0a52bfb63ed802b35/artifacts/sklearn-model/condaenv.lu_wairi.requirements.txt (line 1))\n",
      "  Using cached blinker-1.6.2-py3-none-any.whl (13 kB)\n",
      "Collecting gitdb<5,>=4.0.1 (from gitpython<4,>=2.1.0->mlflow==2.3->-r /home/alios/Desktop/b2metric/aktifbank-workshop/mlruns/1/793a666f0ccd4bc0a52bfb63ed802b35/artifacts/sklearn-model/condaenv.lu_wairi.requirements.txt (line 1))\n",
      "  Using cached gitdb-4.0.10-py3-none-any.whl (62 kB)\n",
      "Requirement already satisfied: setuptools>=3.0 in /home/alios/anaconda3/envs/mlflow-env/lib/python3.11/site-packages (from gunicorn<21->mlflow==2.3->-r /home/alios/Desktop/b2metric/aktifbank-workshop/mlruns/1/793a666f0ccd4bc0a52bfb63ed802b35/artifacts/sklearn-model/condaenv.lu_wairi.requirements.txt (line 1)) (67.7.2)\n",
      "Collecting zipp>=0.5 (from importlib-metadata!=4.7.0,<7,>=3.7.0->mlflow==2.3->-r /home/alios/Desktop/b2metric/aktifbank-workshop/mlruns/1/793a666f0ccd4bc0a52bfb63ed802b35/artifacts/sklearn-model/condaenv.lu_wairi.requirements.txt (line 1))\n",
      "  Using cached zipp-3.15.0-py3-none-any.whl (6.8 kB)\n",
      "Collecting MarkupSafe>=2.0 (from Jinja2<4,>=2.11->mlflow==2.3->-r /home/alios/Desktop/b2metric/aktifbank-workshop/mlruns/1/793a666f0ccd4bc0a52bfb63ed802b35/artifacts/sklearn-model/condaenv.lu_wairi.requirements.txt (line 1))\n",
      "  Downloading MarkupSafe-2.1.2-cp311-cp311-manylinux_2_17_x86_64.manylinux2014_x86_64.whl (27 kB)\n",
      "Collecting contourpy>=1.0.1 (from matplotlib<4->mlflow==2.3->-r /home/alios/Desktop/b2metric/aktifbank-workshop/mlruns/1/793a666f0ccd4bc0a52bfb63ed802b35/artifacts/sklearn-model/condaenv.lu_wairi.requirements.txt (line 1))\n",
      "  Using cached contourpy-1.0.7-cp311-cp311-manylinux_2_17_x86_64.manylinux2014_x86_64.whl (299 kB)\n",
      "Collecting cycler>=0.10 (from matplotlib<4->mlflow==2.3->-r /home/alios/Desktop/b2metric/aktifbank-workshop/mlruns/1/793a666f0ccd4bc0a52bfb63ed802b35/artifacts/sklearn-model/condaenv.lu_wairi.requirements.txt (line 1))\n",
      "  Using cached cycler-0.11.0-py3-none-any.whl (6.4 kB)\n",
      "Collecting fonttools>=4.22.0 (from matplotlib<4->mlflow==2.3->-r /home/alios/Desktop/b2metric/aktifbank-workshop/mlruns/1/793a666f0ccd4bc0a52bfb63ed802b35/artifacts/sklearn-model/condaenv.lu_wairi.requirements.txt (line 1))\n",
      "  Using cached fonttools-4.39.4-py3-none-any.whl (1.0 MB)\n",
      "Collecting kiwisolver>=1.0.1 (from matplotlib<4->mlflow==2.3->-r /home/alios/Desktop/b2metric/aktifbank-workshop/mlruns/1/793a666f0ccd4bc0a52bfb63ed802b35/artifacts/sklearn-model/condaenv.lu_wairi.requirements.txt (line 1))\n",
      "  Using cached kiwisolver-1.4.4-cp311-cp311-manylinux_2_17_x86_64.manylinux2014_x86_64.whl (1.4 MB)\n",
      "Collecting pillow>=6.2.0 (from matplotlib<4->mlflow==2.3->-r /home/alios/Desktop/b2metric/aktifbank-workshop/mlruns/1/793a666f0ccd4bc0a52bfb63ed802b35/artifacts/sklearn-model/condaenv.lu_wairi.requirements.txt (line 1))\n",
      "  Using cached Pillow-9.5.0-cp311-cp311-manylinux_2_28_x86_64.whl (3.4 MB)\n",
      "Collecting pyparsing>=2.3.1 (from matplotlib<4->mlflow==2.3->-r /home/alios/Desktop/b2metric/aktifbank-workshop/mlruns/1/793a666f0ccd4bc0a52bfb63ed802b35/artifacts/sklearn-model/condaenv.lu_wairi.requirements.txt (line 1))\n",
      "  Using cached pyparsing-3.0.9-py3-none-any.whl (98 kB)\n",
      "Collecting python-dateutil>=2.7 (from matplotlib<4->mlflow==2.3->-r /home/alios/Desktop/b2metric/aktifbank-workshop/mlruns/1/793a666f0ccd4bc0a52bfb63ed802b35/artifacts/sklearn-model/condaenv.lu_wairi.requirements.txt (line 1))\n",
      "  Using cached python_dateutil-2.8.2-py2.py3-none-any.whl (247 kB)\n",
      "Collecting tzdata>=2022.1 (from pandas<3->mlflow==2.3->-r /home/alios/Desktop/b2metric/aktifbank-workshop/mlruns/1/793a666f0ccd4bc0a52bfb63ed802b35/artifacts/sklearn-model/condaenv.lu_wairi.requirements.txt (line 1))\n",
      "  Using cached tzdata-2023.3-py2.py3-none-any.whl (341 kB)\n",
      "Collecting charset-normalizer<4,>=2 (from requests<3,>=2.17.3->mlflow==2.3->-r /home/alios/Desktop/b2metric/aktifbank-workshop/mlruns/1/793a666f0ccd4bc0a52bfb63ed802b35/artifacts/sklearn-model/condaenv.lu_wairi.requirements.txt (line 1))\n",
      "  Downloading charset_normalizer-3.1.0-cp311-cp311-manylinux_2_17_x86_64.manylinux2014_x86_64.whl (197 kB)\n",
      "\u001b[2K     ━━━━━━━━━━━━━━━━━━━━━━━━━━━━━━━━━━━━━━━ 197.3/197.3 kB 8.2 MB/s eta 0:00:00\n",
      "\u001b[?25hCollecting idna<4,>=2.5 (from requests<3,>=2.17.3->mlflow==2.3->-r /home/alios/Desktop/b2metric/aktifbank-workshop/mlruns/1/793a666f0ccd4bc0a52bfb63ed802b35/artifacts/sklearn-model/condaenv.lu_wairi.requirements.txt (line 1))\n",
      "  Using cached idna-3.4-py3-none-any.whl (61 kB)\n",
      "Collecting certifi>=2017.4.17 (from requests<3,>=2.17.3->mlflow==2.3->-r /home/alios/Desktop/b2metric/aktifbank-workshop/mlruns/1/793a666f0ccd4bc0a52bfb63ed802b35/artifacts/sklearn-model/condaenv.lu_wairi.requirements.txt (line 1))\n",
      "  Using cached certifi-2023.5.7-py3-none-any.whl (156 kB)\n",
      "Collecting greenlet!=0.4.17 (from sqlalchemy<3,>=1.4.0->mlflow==2.3->-r /home/alios/Desktop/b2metric/aktifbank-workshop/mlruns/1/793a666f0ccd4bc0a52bfb63ed802b35/artifacts/sklearn-model/condaenv.lu_wairi.requirements.txt (line 1))\n",
      "  Using cached greenlet-2.0.2-cp311-cp311-manylinux_2_17_x86_64.manylinux2014_x86_64.whl (618 kB)\n",
      "Collecting smmap<6,>=3.0.1 (from gitdb<5,>=4.0.1->gitpython<4,>=2.1.0->mlflow==2.3->-r /home/alios/Desktop/b2metric/aktifbank-workshop/mlruns/1/793a666f0ccd4bc0a52bfb63ed802b35/artifacts/sklearn-model/condaenv.lu_wairi.requirements.txt (line 1))\n",
      "  Using cached smmap-5.0.0-py3-none-any.whl (24 kB)\n",
      "Installing collected packages: pytz, zipp, websocket-client, urllib3, tzdata, typing-extensions, threadpoolctl, tabulate, sqlparse, smmap, six, pyyaml, pyparsing, pyjwt, psutil, protobuf, pillow, packaging, oauthlib, numpy, MarkupSafe, markdown, kiwisolver, joblib, itsdangerous, idna, gunicorn, greenlet, fonttools, entrypoints, cycler, cloudpickle, click, charset-normalizer, certifi, blinker, Werkzeug, sqlalchemy, scipy, requests, querystring-parser, python-dateutil, pyarrow, Mako, Jinja2, importlib-metadata, gitdb, contourpy, scikit-learn, pandas, matplotlib, gitpython, Flask, docker, databricks-cli, alembic, mlflow\n",
      "Successfully installed Flask-2.3.2 Jinja2-3.1.2 Mako-1.2.4 MarkupSafe-2.1.2 Werkzeug-2.3.4 alembic-1.11.1 blinker-1.6.2 certifi-2023.5.7 charset-normalizer-3.1.0 click-8.1.3 cloudpickle-2.2.1 contourpy-1.0.7 cycler-0.11.0 databricks-cli-0.17.7 docker-6.1.2 entrypoints-0.4 fonttools-4.39.4 gitdb-4.0.10 gitpython-3.1.31 greenlet-2.0.2 gunicorn-20.1.0 idna-3.4 importlib-metadata-6.6.0 itsdangerous-2.1.2 joblib-1.2.0 kiwisolver-1.4.4 markdown-3.4.3 matplotlib-3.7.1 mlflow-2.3.0 numpy-1.24.3 oauthlib-3.2.2 packaging-23.1 pandas-2.0.1 pillow-9.5.0 protobuf-4.23.1 psutil-5.9.5 pyarrow-11.0.0 pyjwt-2.7.0 pyparsing-3.0.9 python-dateutil-2.8.2 pytz-2023.3 pyyaml-6.0 querystring-parser-1.2.4 requests-2.31.0 scikit-learn-1.2.2 scipy-1.10.1 six-1.16.0 smmap-5.0.0 sqlalchemy-2.0.15 sqlparse-0.4.4 tabulate-0.9.0 threadpoolctl-3.1.0 typing-extensions-4.6.1 tzdata-2023.3 urllib3-1.26.16 websocket-client-1.5.2 zipp-3.15.0\n",
      "\n",
      "done\n",
      "#\n",
      "# To activate this environment, use\n",
      "#\n",
      "#     $ conda activate mlflow-env\n",
      "#\n",
      "# To deactivate an active environment, use\n",
      "#\n",
      "#     $ conda deactivate\n",
      "\n",
      "Retrieving notices: ...working... done\n"
     ]
    }
   ],
   "source": [
    "!conda env create -f /home/alios/Desktop/b2metric/aktifbank-workshop/mlruns/1/793a666f0ccd4bc0a52bfb63ed802b35/artifacts/sklearn-model/conda.yaml"
   ]
  },
  {
   "cell_type": "code",
   "execution_count": null,
   "id": "80d5c97a-9e05-4bad-ba07-eb910f72db39",
   "metadata": {},
   "outputs": [],
   "source": []
  }
 ],
 "metadata": {
  "kernelspec": {
   "display_name": "Python 3 (ipykernel)",
   "language": "python",
   "name": "python3"
  },
  "language_info": {
   "codemirror_mode": {
    "name": "ipython",
    "version": 3
   },
   "file_extension": ".py",
   "mimetype": "text/x-python",
   "name": "python",
   "nbconvert_exporter": "python",
   "pygments_lexer": "ipython3",
   "version": "3.11.3"
  }
 },
 "nbformat": 4,
 "nbformat_minor": 5
}
